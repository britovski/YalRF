{
 "metadata": {
  "language_info": {
   "codemirror_mode": {
    "name": "ipython",
    "version": 3
   },
   "file_extension": ".py",
   "mimetype": "text/x-python",
   "name": "python",
   "nbconvert_exporter": "python",
   "pygments_lexer": "ipython3",
   "version": "3.8.5-final"
  },
  "orig_nbformat": 2,
  "kernelspec": {
   "name": "python3",
   "display_name": "Python 3"
  }
 },
 "nbformat": 4,
 "nbformat_minor": 2,
 "cells": [
  {
   "cell_type": "markdown",
   "metadata": {},
   "source": [
    "# Testbenches for the DC Analysis\n",
    "\n",
    "The goal of this notebook is to compare the results from Yarf simulations to what is obtained using Xyce. There are several Xyce netlists in the ./data directory, along with the output data. They were developed with the help of Qucs-S. The netlists are recreated and simulated here using Yarf and the results between the engines are compared."
   ]
  },
  {
   "cell_type": "code",
   "execution_count": 1,
   "metadata": {},
   "outputs": [],
   "source": [
    "import sys\n",
    "sys.path.append(\"..\")\n",
    "\n",
    "import logging\n",
    "import numpy as np\n",
    "import matplotlib.pyplot as plt\n",
    "\n",
    "from Xyce import getXyceData\n",
    "from yarf import Yarf"
   ]
  },
  {
   "cell_type": "markdown",
   "metadata": {},
   "source": [
    "# Circuit 1\n",
    "\n",
    "<img src=\"data/circuit1.png\" alt=\"drawing\" width=\"600\"/>"
   ]
  },
  {
   "cell_type": "code",
   "execution_count": 2,
   "metadata": {
    "tags": []
   },
   "outputs": [
    {
     "output_type": "stream",
     "name": "stdout",
     "text": "2.8451578870658523e-08\n4.497874783737643e-08\n3.970909823181046e-08\n4.5337861465100104e-08\n1.6438470140656136e-08\n2.7296451321490167e-08\n3.074495680266409e-08\n1.299849827773869e-08\n4.505143635924469e-08\n2.2046933167985117e-09\n"
    }
   ],
   "source": [
    "y = Yarf(\"Circuit 1\")\n",
    "\n",
    "y.add_resistor('R1', 'n1', 'n2', 100)\n",
    "y.add_resistor('R2', 'n2', 'gnd', 25)\n",
    "y.add_resistor('R3', 'n3', 'n5', 50)\n",
    "y.add_resistor('R4', 'n7', 'n8', 33)\n",
    "y.add_resistor('R5', 'n8', 'n5', 66)\n",
    "y.add_resistor('R6', 'n9', 'gnd', 50)\n",
    "y.add_capacitor('C1', 'n4', 'n3', 1e-12)\n",
    "y.add_inductor('L1', 'n4', 'n2', 1e-9)\n",
    "y.add_inductor('L2', 'n5', 'gnd', 1e-9)\n",
    "\n",
    "v1 = y.add_vdc('V1', 'n1', 'gnd', 10)\n",
    "y.add_vdc('V2', 'n3', 'n2', 7)\n",
    "y.add_idc('I1', 'n4', 'n1', 2)\n",
    "\n",
    "y.add_vcvs('SRC1', 'n3', 'n7', 'n8', 'n5', 1.7)\n",
    "y.add_ccvs('SRC2', 'n7', 'n9', 'gnd', 'n5', 12.4)\n",
    "\n",
    "y.add_dc_analysis('DC1')\n",
    "\n",
    "# get output from Xyce simulator\n",
    "xyce = getXyceData('data/circuit1.prn')\n",
    "\n",
    "# sweep of V1 DC voltage\n",
    "vsweep = np.arange(1, 11, 1)\n",
    "i = 0\n",
    "for v in vsweep:\n",
    "    # run dc analysis with new dc voltage\n",
    "    v1.dc = v\n",
    "    y.run('DC1')\n",
    "\n",
    "    # get output data\n",
    "    vn1 = y.get_voltage('DC1', 'n1')\n",
    "    vn2 = y.get_voltage('DC1', 'n2')\n",
    "    vn3 = y.get_voltage('DC1', 'n3')\n",
    "    vn4 = y.get_voltage('DC1', 'n4')\n",
    "    vn5 = y.get_voltage('DC1', 'n5')\n",
    "    vn7 = y.get_voltage('DC1', 'n7')\n",
    "    vn8 = y.get_voltage('DC1', 'n8')\n",
    "    vn9 = y.get_voltage('DC1', 'n9')\n",
    "\n",
    "    # compare outputs from Xyce and Yarf\n",
    "    yarf_out = [vn1, vn2, vn3, vn4, vn5, vn7, vn8, vn9]\n",
    "    xyce_out = xyce[1][i][1:]\n",
    "    print(max(yarf_out - xyce_out))\n",
    "    i = i + 1"
   ]
  }
 ]
}